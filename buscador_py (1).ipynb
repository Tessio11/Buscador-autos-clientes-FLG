{
  "nbformat": 4,
  "nbformat_minor": 0,
  "metadata": {
    "colab": {
      "provenance": [],
      "private_outputs": true
    },
    "kernelspec": {
      "name": "python3",
      "display_name": "Python 3"
    },
    "language_info": {
      "name": "python"
    }
  },
  "cells": [
    {
      "cell_type": "code",
      "source": [
        "\n",
        "import pandas as pd\n",
        "from tabulate import tabulate\n",
        "from IPython.display import clear_output\n",
        "\n",
        "df = pd.read_csv(\"download (1).csv\")\n",
        "def buscar(df, termino):\n",
        "    termino = termino.lower()\n",
        "    resultados = df[df.apply(lambda row:\n",
        "        termino in str(row['Patente']).lower() or\n",
        "        termino in str(row['Cliente']).lower(), axis=1)]\n",
        "    return resultados\n",
        "\n",
        "while True:\n",
        "    try:\n",
        "        busqueda = input(\"Ingrese parte del nombre del Cliente o la Patente: \")\n",
        "\n",
        "        if not busqueda.strip():\n",
        "            print(\"⚠️ Entrada vacía. Intentá de nuevo.\\n\")\n",
        "            continue\n",
        "\n",
        "\n",
        "        clear_output(wait=False)\n",
        "\n",
        "        resultado = buscar(df, busqueda)\n",
        "        print(\"\\n📋 Resultados encontrados:\\n\")\n",
        "\n",
        "        if resultado.empty:\n",
        "            print(\"❌ No se encontraron coincidencias.\\n\")\n",
        "        else:\n",
        "            print(tabulate(resultado, headers='keys', tablefmt='grid', showindex=False))\n",
        "\n",
        "    except Exception as e:\n",
        "        print(f\"❌ Ocurrió un error: {e}\")\n",
        "        print(\"Intentá de nuevo.\\n\")"
      ],
      "metadata": {
        "id": "PNH6wrLJPXaG"
      },
      "execution_count": null,
      "outputs": []
    }
  ]
}